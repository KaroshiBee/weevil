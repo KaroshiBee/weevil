{
 "cells": [
  {
   "cell_type": "code",
   "execution_count": 1,
   "id": "8cc28c71",
   "metadata": {},
   "outputs": [],
   "source": [
    "import json"
   ]
  },
  {
   "cell_type": "code",
   "execution_count": 3,
   "id": "d57bbdbb",
   "metadata": {},
   "outputs": [],
   "source": [
    "with open(\"../schema/errorResponse.json\") as f: s = json.load(f)\n"
   ]
  },
  {
   "cell_type": "code",
   "execution_count": 8,
   "id": "cbadf574",
   "metadata": {},
   "outputs": [
    {
     "data": {
      "text/plain": [
       "dict_keys(['ProtocolMessage', 'Request', 'Event', 'Response', 'ErrorResponse', 'Message'])"
      ]
     },
     "execution_count": 8,
     "metadata": {},
     "output_type": "execute_result"
    }
   ],
   "source": [
    "s[\"definitions\"].keys()"
   ]
  },
  {
   "cell_type": "code",
   "execution_count": 12,
   "id": "49f715ed",
   "metadata": {},
   "outputs": [],
   "source": [
    "from dataclasses import dataclass"
   ]
  },
  {
   "cell_type": "code",
   "execution_count": 15,
   "id": "f24150e2",
   "metadata": {},
   "outputs": [],
   "source": [
    "from enum import Enum, unique"
   ]
  },
  {
   "cell_type": "code",
   "execution_count": 20,
   "id": "3c539b6b",
   "metadata": {},
   "outputs": [],
   "source": [
    "@unique\n",
    "class Type_(Enum):\n",
    "    REQUEST=\"Request\"\n",
    "    EVENT=\"Event\"\n",
    "    RESPONSE=\"Response\""
   ]
  },
  {
   "cell_type": "code",
   "execution_count": 21,
   "id": "e970abd1",
   "metadata": {},
   "outputs": [],
   "source": [
    "@unique\n",
    "class Command(Enum):\n",
    "    ERROR=\"error\""
   ]
  },
  {
   "cell_type": "code",
   "execution_count": 22,
   "id": "93190cba",
   "metadata": {},
   "outputs": [],
   "source": [
    "@unique\n",
    "class Message(Enum):\n",
    "    CANCELLED=\"cancelled\""
   ]
  },
  {
   "cell_type": "code",
   "execution_count": null,
   "id": "f9512952",
   "metadata": {},
   "outputs": [],
   "source": []
  },
  {
   "cell_type": "code",
   "execution_count": null,
   "id": "414df56f",
   "metadata": {},
   "outputs": [],
   "source": []
  },
  {
   "cell_type": "code",
   "execution_count": 34,
   "id": "06abec4c",
   "metadata": {},
   "outputs": [],
   "source": [
    "@dataclass\n",
    "class Response:\n",
    "    type_: Type_\n",
    "    seq: int\n",
    "    request_seq: int\n",
    "    success: bool\n",
    "    body: any\n",
    "    command: Command \n",
    "    message: Message\n",
    "        \n",
    "    @classmethod\n",
    "    def make(cls, type_, seq, request_seq, success, body, command=None, message=None):\n",
    "        return cls(type_, seq, request_seq, success, body, command=None, message=None)"
   ]
  },
  {
   "cell_type": "code",
   "execution_count": 35,
   "id": "1988b986",
   "metadata": {},
   "outputs": [],
   "source": [
    "r = Response.make(Type_.REQUEST, 1, 2, True, None)"
   ]
  },
  {
   "cell_type": "code",
   "execution_count": 36,
   "id": "875f03cd",
   "metadata": {},
   "outputs": [
    {
     "data": {
      "text/plain": [
       "Response(type_=<Type_.REQUEST: 'Request'>, seq=1, request_seq=2, success=True, body=None, command=None, message=None)"
      ]
     },
     "execution_count": 36,
     "metadata": {},
     "output_type": "execute_result"
    }
   ],
   "source": [
    "r"
   ]
  },
  {
   "cell_type": "code",
   "execution_count": null,
   "id": "dd2bcc21",
   "metadata": {},
   "outputs": [],
   "source": []
  }
 ],
 "metadata": {
  "kernelspec": {
   "display_name": "Python 3 (ipykernel)",
   "language": "python",
   "name": "python3"
  },
  "language_info": {
   "codemirror_mode": {
    "name": "ipython",
    "version": 3
   },
   "file_extension": ".py",
   "mimetype": "text/x-python",
   "name": "python",
   "nbconvert_exporter": "python",
   "pygments_lexer": "ipython3",
   "version": "3.9.5"
  }
 },
 "nbformat": 4,
 "nbformat_minor": 5
}
